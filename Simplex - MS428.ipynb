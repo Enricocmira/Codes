{
  "nbformat": 4,
  "nbformat_minor": 0,
  "metadata": {
    "colab": {
      "provenance": []
    },
    "kernelspec": {
      "display_name": "Python 3",
      "name": "python3"
    },
    "language_info": {
      "name": "python"
    }
  },
  "cells": [
    {
      "cell_type": "markdown",
      "metadata": {
        "id": "JEQh8d6EUkbO"
      },
      "source": [
        "---\n",
        "# **Tarefa 8 - Projeto Computacional**\n",
        "\n",
        "\n",
        "**MS428A - 30/09/2021**\n",
        "\n",
        "Alunos:\n",
        "\n",
        "Elizeu Caetano Da Silva RA:233817\n",
        "\n",
        "Enrico Campos de Mira RA: 196437\n",
        "\n",
        "---"
      ]
    },
    {
      "cell_type": "markdown",
      "metadata": {
        "id": "7mHgVvljalif"
      },
      "source": [
        "## **Introdução**\n",
        "\n",
        "---\n",
        "\n"
      ]
    },
    {
      "cell_type": "markdown",
      "metadata": {
        "id": "JVBZj7xYawqZ"
      },
      "source": [
        "Definimos um problema de programação linear como sendo :\n",
        "\n",
        "Dado um vetor x ∈ R<sup>n</sup>, um vetor de variável, um conjunto A denominado conjunto de factibilidade e f(x) função objetivo , desejamos encontrar um valor x que minimiza f em A, e se tal valor existe dizemos que é a solução ótima para o problema. Se existe uma solução ótima então existe um vértice ótimo.\n",
        "\n",
        "Dado um problema de programação Linear , o algoritmo Simplex busca vértices ótimos através de comandos iterativos. Na prática o método inicia com uma base factível inicial (que corresponde a um ponto da fronteira de A) e verifica se este é ótimo através de cálculos numéricos e a partir dele salta para outro extremo de menor valor ; assim sucessivamente até encontrar o X que minimiza f.\n",
        "\n",
        "No caso em que não há uma base factível trivial (Identidade de ordem m) lança-se mão de dois métodos para iniciar o simplex , o método do Big M ou das duas fases.\n",
        "\n",
        "O PL pode ser escrito em sua forma matricial como\n",
        "\n",
        "min f(x):\n",
        "s.a {Ax = B e  $x \\ge 0 $}\n",
        "\n",
        "Utilizamos a linguagem Python para programação e importamos a biblioteca Numpy para facilitar a implementação; ao longo do código é explicado cada passo que define o método Simplex"
      ]
    },
    {
      "cell_type": "markdown",
      "metadata": {
        "id": "2hqm-aWFXgmq"
      },
      "source": [
        "### **Entradas**:\n",
        "\n",
        "*   m: número de restrições (linhas);\n",
        "*   n: número de variáveis* (colunas);\n",
        "*   c: vetor dos custos;\n",
        "*   b: vetor dos recursos (ou termos independentes);\n",
        "*   A: matriz dos coeficientes das restrições (com as variáveis de folga).\n",
        "\n",
        "A ∈ R<sup>m×n</sup>,\n",
        "b ∈ R<sup>m</sup>,\n",
        "c ∈ R<sup>n</sup>,\n",
        "m ∈ R e n ∈ R.\n",
        "\n",
        "*Incluindo as variáveis de folga"
      ]
    },
    {
      "cell_type": "markdown",
      "metadata": {
        "id": "b-16aLekbWGH"
      },
      "source": [
        "### **Saídas**:\n",
        "\n",
        "Se o problema for ilimitado:\n",
        "*   exibir essa informação\n",
        "\n",
        "\n",
        "Se o problema tiver solução, exibir:\n",
        "\n",
        "\n",
        "*   x: vetor das variáveis de decisão, que é a solução  ótima do PPL;\n",
        "*   F(x): valor  ótimo da solução.\n",
        "\n",
        "x ∈ R<sup>n</sup> e F(x) ∈ R.\n"
      ]
    },
    {
      "cell_type": "markdown",
      "metadata": {
        "id": "5col56Pp4IZa"
      },
      "source": [
        "\n",
        "## **Código Explicado**\n",
        "\n",
        "---"
      ]
    },
    {
      "cell_type": "markdown",
      "metadata": {
        "id": "q2muMp5u8fLi"
      },
      "source": [
        "### **Simplex**\n",
        "\n",
        "---\n",
        "\n",
        "A função SIMPLEX definida abaixo foi definida com base no método das duas fases. Ao ser executada, a função utiliza a função FASEI para encontrar um vetor com os índices das variáveis básicas. Caso o encontre uma solução básica factível, o código seguirá para a função FASEII para resolver o problema. A função FASEII resolverá o problema da fase 2\n",
        "\n",
        "Caso não encontre uma solução básica factível na FASEI a função para e retorna a resposta\n",
        "\n",
        "A função Simplex recebe como entrada os argumentos (A,b,c, m,n) que correspondem as entradas enunciadas acima na introdução(no formato array, como nos exemplos abaixo)."
      ]
    },
    {
      "cell_type": "code",
      "metadata": {
        "id": "Loiguq82olmy"
      },
      "source": [
        "# Importando Pacotes:\n",
        "import numpy as np\n",
        "\n",
        "# Simplex\n",
        "def Simplex(A,b,c, m,n):\n",
        "  # Verifica se todos os valores de b são positivos\n",
        "  (A,b) = VERIFICA_b(A,b)\n",
        "  # Simplex\n",
        "  v = FASEI(A,b,m,n)\n",
        "  if  v.any() != 0:\n",
        "    FASEII(c,b,A, v)"
      ],
      "execution_count": null,
      "outputs": []
    },
    {
      "cell_type": "markdown",
      "metadata": {
        "id": "N6kJ4EWkQXUK"
      },
      "source": [
        "**Verificando b**\n",
        "\n",
        "A função VERIFICA_b(A,b) recebe a Matriz A e o vetor b e, a partir disso, verifica se b possue algum elemento menor que 0. Caso ocorra, o algoritmo seleciona o elemento em b e sua respectiva linha em A e multiplica ambos por -1"
      ]
    },
    {
      "cell_type": "code",
      "metadata": {
        "id": "w6Jede5ZPzs1"
      },
      "source": [
        "def VERIFICA_b(A,b):\n",
        "\n",
        "  if any(b < 0):\n",
        "    A[b<= 0,:] = A[b< 0,:] *(-1)\n",
        "    b[b<= 0] = b[b< 0] *(-1)\n",
        "\n",
        "  return A,b"
      ],
      "execution_count": null,
      "outputs": []
    },
    {
      "cell_type": "markdown",
      "metadata": {
        "id": "C-iViVbvCR95"
      },
      "source": [
        "### **FASE  I**\n",
        "\n",
        "---\n",
        "\n",
        "Para o a implementação da fase 1 utilizamos o método das duas fases. Para isso primeiramente construímos o problema auxíliar e, em seguida, utilizamos o algoritmo da FASE II para resolver o problema.\n",
        "\n",
        "Após a resolução do problema auxíliar, o programa nos retornará um vetor com os índices das variáveis que compõem a base factível encontrada (v). Ou caso não encontre uma base factível, um vetor nulo(para para a função SIMPLEX) e a mensagem: \"O problema não possui solução factível\"\n",
        "\n",
        "\n",
        "\n"
      ]
    },
    {
      "cell_type": "code",
      "metadata": {
        "id": "W12zURExbwgj"
      },
      "source": [
        "def FASEI(A,b,m,n):\n",
        "\n",
        "  # Vetor de custos do problema auxíliar\n",
        "  c = np.append(np.zeros(n, int),np.ones(m, int))\n",
        "  # Matriz A do problema auxíliar\n",
        "  A = np.append(A,np.identity(m,int), axis = 1)\n",
        "  # Base inicial do problema auxíliar\n",
        "  v = np.array(range(n ,n+m))\n",
        "\n",
        "  while(True):\n",
        "\n",
        "      # FASE II: { início da iteração simplex }\n",
        "      (B, cb, N, cn) = PASSO_0(A, b, c, v)\n",
        "\n",
        "      # Passo 1: { cálculo da solução básica }\n",
        "      (xb, Fxb) = PASSO_1(B, cb, b)\n",
        "\n",
        "      # Chegando factibilidade (xb >= 0)\n",
        "      if NAO_FACTIVEL(xb):\n",
        "        print(\"O problema não possui solução factível\")\n",
        "        v = np.array(0)\n",
        "        return v\n",
        "        break\n",
        "\n",
        "      # Passo 2: { cálculo dos custos relativos }\n",
        "      (custos_relativos, var_entra) = PASSO_2(B, N, cb, cn)\n",
        "\n",
        "      # Passo 3: { teste de otimalidade }\n",
        "      if PASSO_3(custos_relativos):\n",
        "        return v\n",
        "        break\n",
        "\n",
        "      # Passo 4: { cálculo da direção simplex }\n",
        "      y =PASSO_4(B,N,var_entra)\n",
        "\n",
        "      if NAO_FINITA(y):\n",
        "        print(\"O problema não possui solução ótima finita\")\n",
        "        break\n",
        "\n",
        "      # Passo 5: { determinar passo e variável a sair da base }\n",
        "      var_sai = PASSO_5(xb, y)\n",
        "\n",
        "      # Passo 6: { atualização: nova partição básica }\n",
        "      v = PASSO_6(c, v, var_entra, var_sai)\n"
      ],
      "execution_count": null,
      "outputs": []
    },
    {
      "cell_type": "markdown",
      "metadata": {
        "id": "BeB92liIB8MT"
      },
      "source": [
        "### **FASE II**\n",
        "---\n",
        "\n",
        "A função FASEII resolverá o problema da fase 2. Para isso, a função receberá o vetor de custos (c), os valores de b (b), a matriz de coeficientes (A) e o vetor com o índice das varíaveis básicas encontrada na FASEI(v).\n",
        "\n",
        "Posto isso, o programa seguirá resolvendo o problema da Fase II. Para isso, chamará as funções abaixo para realizar cada passo do algoritmo.\n",
        "\n",
        "A função retornará se o problema é ilimitado ou possui uma solução única. Nesse último caso retornará o vetor xb e o valor de F(xb)"
      ]
    },
    {
      "cell_type": "code",
      "metadata": {
        "id": "PzrRfHyy4KUs"
      },
      "source": [
        "def FASEII(c, b, A, v):\n",
        "  while(True):\n",
        "\n",
        "    # FASE II: { início da iteração simplex }\n",
        "    (B, cb, N, cn) = PASSO_0(A, b, c, v)\n",
        "\n",
        "    # Passo 1: { cálculo da solução básica }\n",
        "    (xb, Fxb) = PASSO_1(B, cb, b)\n",
        "\n",
        "    # Passo 2: { cálculo dos custos relativos }\n",
        "    (custos_relativos, var_entra) = PASSO_2(B, N, cb, cn)\n",
        "\n",
        "    # Passo 3: { teste de otimalidade }\n",
        "    if PASSO_3(custos_relativos):\n",
        "      x = np.zeros(len(cb)+len(cn))\n",
        "      x[v]= xb\n",
        "      print(\"Solução ótima:\",\"\\n x =\", end = ' ')\n",
        "      for i in x:\n",
        "        print(i, end = '   ')\n",
        "      print(\"\\n F(x)=\" , Fxb)\n",
        "      break\n",
        "\n",
        "    # Passo 4: { cálculo da direção simplex }\n",
        "    y =PASSO_4(B,N,var_entra)\n",
        "\n",
        "    if NAO_FINITA(y):\n",
        "      print(\"O problema não possui solução ótima finita\")\n",
        "      break\n",
        "\n",
        "    # Passo 5: { determinar passo e variável a sair da base }\n",
        "    var_sai = PASSO_5(xb, y)\n",
        "\n",
        "    # Passo 6: { atualização: nova partição básica }\n",
        "    v = PASSO_6(c, v, var_entra, var_sai)\n",
        "\n"
      ],
      "execution_count": null,
      "outputs": []
    },
    {
      "cell_type": "markdown",
      "metadata": {
        "id": "9XVfXjRw7HSN"
      },
      "source": [
        "**Passo 0: { início da iteração simplex }**\n",
        "\n",
        "No passo 0, recebemos o vetor de custos (c), os valores de b (b), a matriz de coeficientes (A) e o vetor com o índice das varíaveis básicas encontrada na FASEI (v). A partir dessas informações a função PASSO_0 nos retorna a matriz das variáveis básicas(B), o vetor de custos básicos(cb), matriz das variáveis não básicas(N) e o vetor de custo das variáveis não básicas (cn)."
      ]
    },
    {
      "cell_type": "code",
      "metadata": {
        "id": "qVDff1eW5ABJ"
      },
      "source": [
        "\n",
        "# FASE II: { início da iteração simplex }\n",
        "def PASSO_0(A, b, c, v):\n",
        "  B = A[:,v]\n",
        "  cb = c[v]\n",
        "  u = np.setxor1d(np.array(range(len(c))),v)\n",
        "  cn = c[u]\n",
        "  N = A[:,u]\n",
        "  return B, cb, N, cn\n",
        "\n"
      ],
      "execution_count": null,
      "outputs": []
    },
    {
      "cell_type": "markdown",
      "metadata": {
        "id": "nbpmUvsq-B-T"
      },
      "source": [
        "**Passo 1: { cálculo da solução básica }**\n",
        "\n",
        "$x$ <sub>b</sub> = $B$<sup>-1</sup> $* b$ (resolvendo o sistema $ Bx$ <sub>b</sub> $= b$)\n",
        "\n",
        "$x$ <sub>n</sub>  = 0\n",
        "\n",
        "\n",
        "Calculo do valor da função atual: $F$($x$ <sub>b</sub> ) = $c$ <sub>b</sub>  * $x$ <sub>b</sub>  "
      ]
    },
    {
      "cell_type": "code",
      "metadata": {
        "id": "70IfPFZ25E1H"
      },
      "source": [
        "# Passo 1: { cálculo da solução básica }\n",
        "def PASSO_1(B, cb, b):\n",
        "\n",
        "  xb = np.linalg.solve(B, b)\n",
        "  Fxb = np.dot(cb,xb)\n",
        "\n",
        "  return xb, Fxb"
      ],
      "execution_count": null,
      "outputs": []
    },
    {
      "cell_type": "markdown",
      "metadata": {
        "id": "RQAAYEu_8rww"
      },
      "source": [
        "**Verificando Factibilidade**\n",
        "\n",
        "A função NAO_FACTIVEL verifica se a solução encontrada é factível. Essa função será utilizada já na Fase I.\n",
        "\n",
        "Caso não seja factível nos retorna True, caso contrário False\n"
      ]
    },
    {
      "cell_type": "code",
      "metadata": {
        "id": "jVigxNH7Ahu2"
      },
      "source": [
        "def NAO_FACTIVEL(xb):\n",
        "  if any(xb < 0):\n",
        "      return True\n",
        "  else:\n",
        "      return False"
      ],
      "execution_count": null,
      "outputs": []
    },
    {
      "cell_type": "markdown",
      "metadata": {
        "id": "YZxuposXDMdJ"
      },
      "source": [
        "**Passo 2: { cálculo dos custos relativos }**\n",
        "\n",
        "*2.1) { cálculo do vetor multiplicador simplex }*\n",
        "\n",
        "λ<sup>T</sup> = c<sub>B</sub><sup>T</sup>  * B<sup>-1</sup>  (resolvendo o sistema B<sup>T</sup> λ = c<sub>B )\n",
        "\n",
        "*2.2) { custos relativos }*\n",
        "\n",
        "$\\hat{c}$<sub>Nj</sub> = $c$<sub>Nj</sub> − λ<sup>T</sup>  * $\\hat{a}$<sub>Nj</sub>  , j = 1, 2, . . . , n − m.\n",
        "\n",
        "*2.3) { escolha da variável a entrar na base }*\n",
        "\n",
        "$\\hat{c}$<sub>Nk</sub> = min {$\\hat{c}$<sub>Nj</sub> , j = 1, . . . , n − m}. A variável $x$<sub>Nk</sub> entra na base.\n",
        "\n",
        "**Retorna:**\n",
        "\n",
        "$\\hat{c}$<sub>Nj</sub>(o vetor de custos_relativos) e $x$<sub>Ak</sub> (o índice da varíavel que entrará na base)"
      ]
    },
    {
      "cell_type": "code",
      "metadata": {
        "id": "9cDS-Wj9w_Wz"
      },
      "source": [
        "# Passo 2: { cálculo dos custos relativos }\n",
        "\n",
        "def PASSO_2(B, N, cb, cn):\n",
        "  # 2.1) { cálculo do vetor multiplicador simplex }\n",
        "  Lambda = np.linalg.solve(np.transpose(B) , cb)\n",
        "\n",
        "  # 2.2) { custos relativos }\n",
        "  custos_relativos = []\n",
        "  for i in range(len(cn)):\n",
        "      custos_relativos.append(cn[i] - np.dot(np.transpose(Lambda) , N[:,i]))\n",
        "\n",
        "  # 2.3) { escolha da variável a entrar na base }\n",
        "  var_entra = custos_relativos.index(min(custos_relativos))\n",
        "\n",
        "  return custos_relativos, var_entra"
      ],
      "execution_count": null,
      "outputs": []
    },
    {
      "cell_type": "markdown",
      "metadata": {
        "id": "4Ey5_OdEAkkV"
      },
      "source": [
        "**Passo 3: { teste de otimalidade }**\n",
        "\n",
        "Se $\\hat{c}$<sub>Nk</sub>  ≥ 0, então PARE = VERDADE { solução atual é ótima }"
      ]
    },
    {
      "cell_type": "code",
      "metadata": {
        "id": "aDepv2MrHqzQ"
      },
      "source": [
        "# Passo 3: { teste de otimalidade }\n",
        "def PASSO_3(custos_relativos):\n",
        "    if all(x >= 0 for x in custos_relativos):\n",
        "      return True\n",
        "    else:\n",
        "      return False"
      ],
      "execution_count": null,
      "outputs": []
    },
    {
      "cell_type": "markdown",
      "metadata": {
        "id": "JLpQRecmF-eI"
      },
      "source": [
        "**Passo 4: { cálculo da direção simplex }**\n",
        "\n",
        "$y=B$<sup>-1</sup>  * $a$<sub>Nk</sub> (resolva o sistema $B y$ = $a$<sub>Nk</sub> )"
      ]
    },
    {
      "cell_type": "code",
      "metadata": {
        "id": "fSYku1EX39np"
      },
      "source": [
        "# Passo 4: { cálculo da direção simplex }\n",
        "def PASSO_4(B,N,var_entra):\n",
        "  y = np.linalg.solve(B , N[:,var_entra])\n",
        "  return y"
      ],
      "execution_count": null,
      "outputs": []
    },
    {
      "cell_type": "markdown",
      "metadata": {
        "id": "acES6GC78H1t"
      },
      "source": [
        "**Passo 5: {verificar se o problema tem solução finita}**\n",
        "\n",
        "Se $y ≤ 0$, então PARE = VERDADE { problema não tem solução  ótima finita }\n",
        "\n",
        "A função NAO_FINITA nos retorna True se o problema não possui solução finita ou False se o problema possui solução finita\n"
      ]
    },
    {
      "cell_type": "code",
      "metadata": {
        "id": "U3B_SgM2LYhb"
      },
      "source": [
        "def NAO_FINITA(y):\n",
        "  if all(y <= 0):\n",
        "      return True\n",
        "  else:\n",
        "      return False"
      ],
      "execution_count": null,
      "outputs": []
    },
    {
      "cell_type": "markdown",
      "metadata": {
        "id": "Q7t4-GXaHaTt"
      },
      "source": [
        "**Passo 5: { determinar passo e variável a sair da base }**\n",
        "\n",
        "$\\hat{ε}$<sub>Nk</sub> = $\\frac{\\hat{x}_{B_{l}}}{{y}_{l}}$ = min {$\\frac{\\hat{x}_{B_{i}}}{{y}_{i}}$, i = 1, . . . , m}. A variáel $x_{B_{l}}$ sai da base.\n"
      ]
    },
    {
      "cell_type": "code",
      "metadata": {
        "id": "hTXL-0zJuasm"
      },
      "source": [
        "# Passo 5: { determinar passo e variável a sair da base }\n",
        "def PASSO_5(xb, y):\n",
        "  epsilon =   min(xb[y > 0 ] / y[y > 0 ])\n",
        "\n",
        "  var_sai =  np.where(np.divide(xb, y, out=np.zeros_like(y), where=y!=0) == epsilon )\n",
        "\n",
        "  return var_sai"
      ],
      "execution_count": null,
      "outputs": []
    },
    {
      "cell_type": "markdown",
      "metadata": {
        "id": "Dh-6UbPbHbRP"
      },
      "source": [
        "**Passo 6: { atualização: nova partição básica }**\n",
        "\n",
        " $a$<sub>Blk</sub> $←→$  $a$<sub>Nk</sub>\n",
        "\n",
        "A função fara isso atualizando o vetor v"
      ]
    },
    {
      "cell_type": "code",
      "metadata": {
        "id": "oXv1U5o3unlh"
      },
      "source": [
        "# Passo 6: { atualização: nova partição básica }\n",
        "def PASSO_6(c, v, var_entra, var_sai):\n",
        "  u = np.setxor1d(np.array(range(len(c))),v)\n",
        "  v = np.union1d(np.setxor1d(v,v[var_sai]),u[var_entra])\n",
        "  return v"
      ],
      "execution_count": null,
      "outputs": []
    },
    {
      "cell_type": "markdown",
      "metadata": {
        "id": "5abPPvB0Bvde"
      },
      "source": [
        "\n",
        "## **Exemplos**\n",
        "\n",
        "---"
      ]
    },
    {
      "cell_type": "markdown",
      "metadata": {
        "id": "FixJz7dSAqIt"
      },
      "source": [
        "\n",
        "**Tarefa 6 - Método primal Simplex (Fase II)**\n",
        "\n",
        "MS428A - 21/09/2021\n",
        "\n",
        "Data de entrega: 28/09/2021\n",
        "\n",
        "---\n",
        "Considere o PL a seguir:\n",
        "\n",
        "min f(x) = −x1 − 3x2\n",
        "\n",
        "sujeito a:\n",
        "\n",
        "−3x1 + 4x2 ≤ 12\n",
        "\n",
        "x1 − x2 ≤ 4\n",
        "\n",
        "x1 + x2 ≤ 6\n",
        "\n",
        "x1 ≥ 0, x2 ≥ 0\n",
        "\n",
        "(a) Resolva pelo algoritmo Simplex (dado na Aula 10). Não omita passos, exiba todas as contas.\n",
        "\n",
        "---"
      ]
    },
    {
      "cell_type": "code",
      "metadata": {
        "colab": {
          "base_uri": "https://localhost:8080/"
        },
        "id": "KjqFgO1ZBvdf",
        "outputId": "623a09f2-07c0-4101-f06f-5274337dd332"
      },
      "source": [
        "#Tarefa 6 - Método (primal) simplex - Fase II\n",
        "\n",
        "# Dados enunciados\n",
        "c = np.array([-1, -3, 0, 0, 0])\n",
        "A = np.array([\n",
        "    [-3, 4, 1, 0, 0],\n",
        "    [ 1, -1, 0, 1, 0],\n",
        "    [ 1, 1, 0, 0, 1]\n",
        "])\n",
        "b =np.array( [12, 4, 6])\n",
        "(m,n) = (3,5)\n",
        "\n",
        "# Simplex\n",
        "Simplex( A,b,c,m,n)"
      ],
      "execution_count": null,
      "outputs": [
        {
          "output_type": "stream",
          "name": "stdout",
          "text": [
            "Solução ótima: \n",
            " x = 1.7142857142857153   4.2857142857142865   0.0   6.571428571428571   0.0   \n",
            " F(x)= -14.571428571428575\n"
          ]
        }
      ]
    },
    {
      "cell_type": "markdown",
      "metadata": {
        "id": "gdCe7GnFzfL5"
      },
      "source": [
        "---\n",
        "**Atividade C - Método Primal Simplex**\n",
        "\n",
        "MS428A - 07/10/2021\n",
        "\n",
        "---\n",
        "\n",
        "Considere o seguinte PL:\n",
        "\n",
        "Min f(x) = −2x1 − x2\n",
        "\n",
        "sujeito a:\n",
        "\n",
        "−2x1 + x2 ≤ 2\n",
        "\n",
        "−2x1 + 3x2 ≥ −6\n",
        "\n",
        "x1 ≥ 0, x2 ≥ 0\n",
        "\n",
        "(a) Resolva o PL utilizando o algoritmo Primal Simplex (visto na Aula 10). Não omita passos\n",
        "e exiba todas as contas.\n",
        "\n",
        "---"
      ]
    },
    {
      "cell_type": "code",
      "metadata": {
        "colab": {
          "base_uri": "https://localhost:8080/"
        },
        "id": "KzeiCTTZBvdh",
        "outputId": "61aa2f47-3aef-47db-c88b-f748349a0786"
      },
      "source": [
        "# Atividade C\n",
        "\n",
        "# Dados enunciados\n",
        "c = np.array([-2, -1, 0, 0])\n",
        "A = np.array([\n",
        "    [-2, 1, 1, 0],\n",
        "    [ -2, 3, 0, -1]\n",
        "])\n",
        "b =np.array( [2, -6])\n",
        "(m,n) = (2,4)\n",
        "\n",
        "# Simplex\n",
        "Simplex( A,b,c,m,n)"
      ],
      "execution_count": null,
      "outputs": [
        {
          "output_type": "stream",
          "name": "stdout",
          "text": [
            "O problema não possui solução ótima finita\n"
          ]
        }
      ]
    },
    {
      "cell_type": "markdown",
      "metadata": {
        "id": "SLR78LMwWsdD"
      },
      "source": [
        "---\n",
        "\n",
        "**Atividade D - Método Primal Simplex**\n",
        "\n",
        "MS428A - 14/10/2021\n",
        "\n",
        "---\n",
        "\n",
        "Resolva o PL a seguir utilizando o algoritmo Primal Simplex. Não omita passos e exiba todas as contas. Deixe claro qual método você escolheu para a Fase I.\n",
        "\n",
        "Min f(x) = −2x1 + 0,5x2\n",
        "\n",
        "sujeito a:\n",
        "\n",
        "x1 + 3x2 ≥ 3\n",
        "\n",
        "2x1 + 3x2 ≤ 12\n",
        "\n",
        "x1 ≥ 0, x2 ≥ 0\n",
        "\n",
        "---"
      ]
    },
    {
      "cell_type": "code",
      "metadata": {
        "colab": {
          "base_uri": "https://localhost:8080/"
        },
        "id": "4Al2t40RXA37",
        "outputId": "cd317f64-c97e-4408-8276-03af281ab8a1"
      },
      "source": [
        "# Atividade D\n",
        "\n",
        "# Dados enunciados\n",
        "c = np.array([-2, 0.5, 0, 0])\n",
        "A = np.array([\n",
        "    [1, 3, -1, 0],\n",
        "    [ 2, 3, 0, 1]\n",
        "])\n",
        "b =np.array( [3, 12])\n",
        "(m,n) = (2,4)\n",
        "\n",
        "# Simplex\n",
        "Simplex( A,b,c,m,n)"
      ],
      "execution_count": null,
      "outputs": [
        {
          "output_type": "stream",
          "name": "stdout",
          "text": [
            "Solução ótima: \n",
            " x = 6.0   0.0   3.0   0.0   \n",
            " F(x)= -12.0\n"
          ]
        }
      ]
    },
    {
      "cell_type": "markdown",
      "metadata": {
        "id": "T2PFFU5FX_YU"
      },
      "source": [
        "---\n",
        "\n",
        "**Tarefa 7 - Método primal Simplex (Fase I)**\n",
        "\n",
        "MS428A - 28/09/2021\n",
        "Data de entrega: 05/10/2021\n",
        "\n",
        "---\n",
        "\n",
        "Resolva os PLs a seguir. Escolha um deles para resolver pelo m ́etodo das duas fases (problema auxiliar)\n",
        "e o outro, pelo m ́etodo Big-M. N ̃ao omita passos, exiba todas as contas.\n",
        "\n",
        "(a)\n",
        "max f(x) = 3x1 − 4x2\n",
        "\n",
        "sujeito a:\n",
        "\n",
        "x1 + x2 ≤ 4\n",
        "\n",
        "2x1 + 3x2 ≥ 18\n",
        "\n",
        "x1 ≥ 0, x2 ≥ 0\n",
        "\n",
        "(b)\n",
        "min f(x) = 2x1 + x2\n",
        "\n",
        "sujeito a:\n",
        "\n",
        "x1 + 6.5x2 ≥ 5\n",
        "\n",
        "2x1 + x2 ≥ 4\n",
        "\n",
        "5x1 + 4x2 ≤ 20\n",
        "\n",
        "x1 ≥ 0, x2 ≥ 0\n",
        "\n",
        "Dica: Lembre-se de que para aplicar o algoritmo o problema deve estar na forma padrão.\n",
        "\n",
        "---"
      ]
    },
    {
      "cell_type": "code",
      "metadata": {
        "colab": {
          "base_uri": "https://localhost:8080/"
        },
        "id": "47Xp3cB-Yjoh",
        "outputId": "840c8e1e-136f-41da-fede-b56915c280aa"
      },
      "source": [
        "#Tarefa 7 - Método primal Simplex (Fase I)\n",
        "#(A)\n",
        "\n",
        "# Dados enunciados\n",
        "c = np.array([3, -4, 0, 0])\n",
        "A = np.array([\n",
        "    [1, 1, 1, 0],\n",
        "    [ 2, 3, 0, 1]\n",
        "])\n",
        "b =np.array( [4,18])\n",
        "(m,n) = (2,4)\n",
        "\n",
        "# Simplex\n",
        "Simplex( A,b,c,m,n)"
      ],
      "execution_count": null,
      "outputs": [
        {
          "output_type": "stream",
          "name": "stdout",
          "text": [
            "Solução ótima: \n",
            " x = 0.0   4.0   0.0   5.999999999999999   \n",
            " F(x)= -16.0\n"
          ]
        }
      ]
    },
    {
      "cell_type": "code",
      "metadata": {
        "colab": {
          "base_uri": "https://localhost:8080/"
        },
        "id": "hPC3k5D1ZNUc",
        "outputId": "7594c7e8-e08d-4528-f872-b70e8ad20598"
      },
      "source": [
        "#(B)\n",
        "\n",
        "# Dados enunciados\n",
        "c = np.array([1, 2, 0, 0, 0])\n",
        "A = np.array([\n",
        "    [1, 6.5, -1, 0, 0],\n",
        "    [ 2, 1, 0, -1, 0],\n",
        "    [ 5, 4, 0, 0, 1]\n",
        "])\n",
        "b =np.array( [5,4,20])\n",
        "(m,n) = (3,5)\n",
        "\n",
        "# Simplex\n",
        "Simplex( A,b,c,m,n)"
      ],
      "execution_count": null,
      "outputs": [
        {
          "output_type": "stream",
          "name": "stdout",
          "text": [
            "Solução ótima: \n",
            " x = 1.75   0.5   0.0   0.0   9.25   \n",
            " F(x)= 2.75\n"
          ]
        }
      ]
    },
    {
      "cell_type": "code",
      "metadata": {
        "id": "uAn1aacmDrAI",
        "colab": {
          "base_uri": "https://localhost:8080/"
        },
        "outputId": "263be576-d864-404e-96f0-17e6dba54e24"
      },
      "source": [
        "# Dados enunciados\n",
        "c = np.array([-2.5,-1,0,0])\n",
        "A = np.array([\n",
        "            [3,5, 1, 0],\n",
        "            [5, 2, 0, 1]\n",
        "])\n",
        "b =np.array( [15,10])\n",
        "(m,n) = (2,4)\n",
        "\n",
        "# Simplex\n",
        "Simplex( A,b,c,m,n)\n"
      ],
      "execution_count": null,
      "outputs": [
        {
          "output_type": "stream",
          "name": "stdout",
          "text": [
            "Solução ótima: \n",
            " x = 1.0526315789473684   2.368421052631579   0.0   0.0   \n",
            " F(x)= -5.0\n"
          ]
        }
      ]
    },
    {
      "cell_type": "code",
      "metadata": {
        "colab": {
          "base_uri": "https://localhost:8080/"
        },
        "id": "1gYl5OKym8sY",
        "outputId": "ef4e9506-935a-4b13-e5a8-2ca595433bf3"
      },
      "source": [
        "# Exemplo sem solução finita\n",
        "\n",
        "# Dados enunciados\n",
        "c = np.array([-3,-3,0,0])\n",
        "A = np.array([\n",
        "            [1,-1, -1, 0],\n",
        "            [0.5, -1, 0, -1]\n",
        "])\n",
        "b =np.array( [1,2])\n",
        "(m,n) = (2,4)\n",
        "v=np.array( [-2,-3])\n",
        "\n",
        "# Simplex\n",
        "Simplex(A, b,c, m, n)\n"
      ],
      "execution_count": null,
      "outputs": [
        {
          "output_type": "stream",
          "name": "stdout",
          "text": [
            "O problema não possui solução ótima finita\n"
          ]
        }
      ]
    },
    {
      "cell_type": "code",
      "metadata": {
        "id": "qISKWZnbFbYi",
        "colab": {
          "base_uri": "https://localhost:8080/"
        },
        "outputId": "f03ae5dc-dbb8-46cb-d293-53eefb716686"
      },
      "source": [
        "# Problema em maior escala\n",
        "\n",
        "# Dados enunciados\n",
        "c = np.array([40,32,35,36,37,0,0,0,0,0,0])\n",
        "A = np.array([\n",
        "            [2, 3, 1.5, 10, 2.25, 1, 0, 0, 0, 0, 0],\n",
        "            [4, 3, 5, 1, 4, 0, 1, 0, 0, 0, 0],\n",
        "            [3, 2.5, 2.5, 2, 2.5, 0, 0, 1, 0, 0, 0],\n",
        "            [2, 1, 2, 1, 2, 0, 0, 0, 1, 0, 0],\n",
        "            [2, 2, 3, 3, 4, 0, 0, 0, 0, 1, 0],\n",
        "            [2, 3, 2, 2, 3, 0, 0, 0, 0, 0, 1]\n",
        "])\n",
        "b =np.array( [650, 700, 700, 300, 450, 550])\n",
        "(m,n) = (6,11)\n",
        "\n",
        "Simplex(A,b,c,m,n)"
      ],
      "execution_count": null,
      "outputs": [
        {
          "output_type": "stream",
          "name": "stdout",
          "text": [
            "Solução ótima: \n",
            " x = 0.0   0.0   0.0   0.0   0.0   650.0   700.0   700.0   300.0   450.0   550.0   \n",
            " F(x)= 0.0\n"
          ]
        }
      ]
    }
  ]
}